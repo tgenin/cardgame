{
 "cells": [
  {
   "cell_type": "markdown",
   "metadata": {},
   "source": [
    "# Simple card game IA\n",
    "\n",
    "We will describe in this notebook a very simple 2 players card game and a way to implement an IA to play this game using an **artificial neural network** (we will use a multi layer perceptron model)\n",
    "\n",
    "The IA will be trained only by playing, which means that no \"expert\" human player will implement strategies.\n",
    "\n",
    "The only information about the game given to the IA is a function which indicates to the IA the cards allowed to play.\n",
    "\n",
    "## The game\n",
    "The game is a very basic 2 player \"Trick-taking\" card game :\n",
    "\n",
    "### General description\n",
    "* There are 2 colors (color 0 and color 1)\n",
    "* Each color has N cards (valued from 0 to N-1)\n",
    "* The game is composed of N \"tricks\"\n",
    "* Player 0 starts to play for the first trick\n",
    "* The winner of a trick starts to play the next trick\n",
    "\n",
    "### Trick rules\n",
    "* The first player can play any card\n",
    "* If the second player has cards with the same color, ** he has to play the same color**\n",
    "* Otherwise he plays the other color\n",
    "\n",
    "### Trick winner\n",
    "* If the second player plays the same color. **The card with the highest value wins the trick**\n",
    "* If the second player does not have the same color. **The first player wins**\n",
    "\n",
    "### Example\n",
    "* N = 3\n",
    "* We denote (1,0) card 1 of color 0\n",
    "* Player 0's hand = [(0, 0), (2, 0), (1, 1)]\n",
    "* Player 1's hand = [(1, 0), (0, 1), (2, 1)]\n",
    " * Player 0 plays (2,0)\n",
    " * Player 1 plays (1,0)\n",
    "   * Player 0 wins the trick since 2 > 1 and start to play next trick\n",
    " * Player 0 plays (0,0)\n",
    " * Player 1 plays (0,1)\n",
    "   * Player 0 wins the trick since player 1 with no color 0, played color 1\n",
    " * Player 0 plays (1, 1)\n",
    " * Player 1 plays (2, 1)\n",
    "   * Player 1 wins the trick since 2 > 1\n",
    "* At the end of the game, player 0 wins 2 tricks, player 1 wins 1 trick\n",
    "\n",
    "## Strategies comparison\n",
    "\n",
    "In order to compare strategies, the players will play a twice :\n",
    "* Player 0 with hand 0, Player 1 with hand 1, Player 0 stats\n",
    "* Player 1 with hand 0, Player 0 with hand 1, Player 1 stats\n",
    "\n",
    "Then we compare both games :\n",
    "* If player 0 wins more tricks with hand 0 than player 1 with hand 0, player 0 wins the whole game\n",
    "* If player 1 wins more tricks with hand 0 than player 0 with hand 0, player 1 wins the whole game\n",
    "* Otherwise its draw\n",
    "\n",
    "## IA implementation\n",
    "We will implement a simple MLP model using keras library"
   ]
  },
  {
   "cell_type": "code",
   "execution_count": 10,
   "metadata": {
    "collapsed": false
   },
   "outputs": [],
   "source": [
    "# Importation\n",
    "import numpy as np\n",
    "\n",
    "import keras\n",
    "from keras.models import Sequential\n",
    "from keras.layers.core import Dense, Dropout, Activation\n",
    "from keras.optimizers import SGD, RMSprop"
   ]
  },
  {
   "cell_type": "code",
   "execution_count": 5,
   "metadata": {
    "collapsed": true
   },
   "outputs": [],
   "source": [
    "# General function to generate hands\n",
    "def generateDeck(N=10, P=2):\n",
    "    deck = np.zeros((P*N, 2))\n",
    "    for i in range(0,P):\n",
    "        deck[i * N:i * N + N,0] = np.arange(N)\n",
    "        deck[i * N:i * N + N,1] = i\n",
    "    return deck\n",
    "\n",
    "def gererateHand(N=10, P=2, seed=0):\n",
    "    \"\"\" Generate N cards hands for P players.\n",
    "    The function returns the deck indices\"\"\"\n",
    "    np.random.seed(seed)\n",
    "    deck = np.arange(N*P)\n",
    "    np.random.shuffle(deck)\n",
    "    return np.reshape(deck, (P,-1))"
   ]
  },
  {
   "cell_type": "markdown",
   "metadata": {
    "collapsed": true
   },
   "source": [
    "## Rules\n",
    "Here is the rule function that indicates to the player the cards they can play, according to their hand and the previous trick."
   ]
  },
  {
   "cell_type": "code",
   "execution_count": 6,
   "metadata": {
    "collapsed": true
   },
   "outputs": [],
   "source": [
    "def playable(hand, deck, trick=[]):\n",
    "    \"\"\"Returns indices of playable cards \"\"\"\n",
    "    allrange = np.arange(len(hand))\n",
    "    if len(trick) == 0:\n",
    "        return allrange # First to play\n",
    "\n",
    "    color = deck[trick[0]][1]\n",
    "    colors = allrange[deck[hand][:,1] == color]\n",
    "    if len(colors) > 0: # Forced to play same color\n",
    "        return colors\n",
    "    else: # Does not have the color\n",
    "        return allrange"
   ]
  },
  {
   "cell_type": "markdown",
   "metadata": {},
   "source": [
    "## Random Strategy\n",
    "\n",
    "Here is the **random strategy**.\n",
    "\n",
    "The player plays the first card he founds and since cards are distributed in a random way (see gererateHand()) its equivalent to a random selection.\n"
   ]
  },
  {
   "cell_type": "code",
   "execution_count": 7,
   "metadata": {
    "collapsed": true
   },
   "outputs": [],
   "source": [
    "def firstPlay(hand, deck, trick=[]):\n",
    "    choices = playable(hand, deck, trick)\n",
    "    return choices[0]"
   ]
  },
  {
   "cell_type": "markdown",
   "metadata": {},
   "source": [
    "## First implementation\n",
    "\n",
    "We will first implement 2 players playing the same random strategy.\n",
    "Since everything is seeded, all the game should end with a **draw** result"
   ]
  },
  {
   "cell_type": "code",
   "execution_count": 12,
   "metadata": {
    "collapsed": true
   },
   "outputs": [],
   "source": [
    "def playTrick(hands, hist, deck, dealer=0):\n",
    "    \"\"\"Let the players play one trick \"\"\"\n",
    "    tricks = []\n",
    "    P = len(hands)\n",
    "    for player in range(dealer, dealer+P):\n",
    "        player %= P\n",
    "        if player == 0:\n",
    "            card_index = firstPlay(hands[player], deck, tricks) # Player 1 plays \"firstPlay strategy\"\n",
    "        elif player == 1:\n",
    "            card_index = firstPlay(hands[player], deck, tricks) # Player 2 plays \"firstPlay strategy\"\n",
    "        tricks.append(hands[player][card_index])\n",
    "    return tricks\n",
    "\n",
    "\n",
    "def getWinner(trick, deck):\n",
    "    \"\"\"Computes which player wins the trick \"\"\"\n",
    "    good_trump = deck[trick][:,1] == deck[trick[0],1] # players with the right color\n",
    "    winner = 0\n",
    "    for i in range(1, len(trick)):\n",
    "        if good_trump[i] and deck[trick[i]][0] > deck[trick[winner]][0]:\n",
    "            winner = i\n",
    "    return winner\n",
    "\n",
    "\n",
    "def getHands(hands, played_cards):\n",
    "    \"\"\" Extract current hands from played cards\"\"\"\n",
    "    cleanHand = []\n",
    "    for hand in hands:\n",
    "        cleanHand.append(hand[np.array([card not in played_cards for card in hand])])\n",
    "    return cleanHand\n",
    "\n",
    "\n",
    "def play(hands, deck, dealer=0):\n",
    "    \"\"\"Plays N tricks and returns played_card order, first player, and winner\"\"\"\n",
    "    played_cards = []\n",
    "    who_play = []\n",
    "    winner = []\n",
    "    \n",
    "    for i in range(0, len(hands[0])): # N tricks\n",
    "        # P players starting from dealer\n",
    "        who_play += list((np.arange(0, len(hands)) + dealer) % len(hands))\n",
    "\n",
    "        trick = playTrick(getHands(hands, played_cards), played_cards, deck, dealer=dealer)      \n",
    "        played_cards += trick # Save played card history\n",
    "        \n",
    "        winner_rel = getWinner(trick, deck)\n",
    "        dealer = (dealer + winner_rel) % len(hands) # Compute which player will start next\n",
    "        winner.append(dealer)\n",
    "    return (played_cards, winner, who_play)\n",
    "\n",
    "\n",
    "def shiftHand(hands):\n",
    "    \"\"\"Exchange hands so that each player can play each hand\"\"\"\n",
    "    hands2 = np.zeros(hands.shape, dtype=hands.dtype )\n",
    "    hands2[0] = hands[-1]\n",
    "    hands2[1:] = hands[0:-1]\n",
    "    return hands2"
   ]
  },
  {
   "cell_type": "markdown",
   "metadata": {},
   "source": [
    "## Lets play\n",
    "Now both players can play the first random strategy\n",
    "Lets generate a deck, play several games and compute the winner.\n",
    "According to the implementation, all games must be draw"
   ]
  },
  {
   "cell_type": "code",
   "execution_count": 14,
   "metadata": {
    "collapsed": false
   },
   "outputs": [
    {
     "name": "stdout",
     "output_type": "stream",
     "text": [
      "0.0 0.0 100.0\n"
     ]
    }
   ],
   "source": [
    "deck0 = generateDeck(N=10, P=2)\n",
    "num_of_games = 1000\n",
    "w1 = 0\n",
    "w2 = 0\n",
    "d = 0\n",
    "\n",
    "for i in range(0, num_of_games):\n",
    "    # Lets play num_of_games games\n",
    "    hand0 = gererateHand(N=10, P=2, seed=i) # seed is fixed\n",
    "\n",
    "    (hist, win, who_play) = play(hand0, deck0, 0)\n",
    "    (shift_hist, shift_win, shift_who_play) = play(shiftHand(hand0), deck0, 1)\n",
    "\n",
    "    if sum([w == 0 for w in win]) > sum([w == 1 for w in shift_win]):\n",
    "        w1 += 1\n",
    "    elif sum([w == 0 for w in win]) < sum([w == 1 for w in shift_win]):\n",
    "        w2 += 1\n",
    "    else:\n",
    "        d += 1\n",
    "print(w1 / num_of_games * 100, w2 / num_of_games * 100, d / num_of_games * 100)\n"
   ]
  },
  {
   "cell_type": "markdown",
   "metadata": {},
   "source": [
    "Expected result:\n",
    "\n",
    "0.0 0.0 100.0\n",
    "\n",
    "=> 100% of played games ends with draw (as expected)"
   ]
  },
  {
   "cell_type": "code",
   "execution_count": null,
   "metadata": {
    "collapsed": true
   },
   "outputs": [],
   "source": []
  }
 ],
 "metadata": {
  "kernelspec": {
   "display_name": "Python 3",
   "language": "python",
   "name": "python3"
  },
  "language_info": {
   "codemirror_mode": {
    "name": "ipython",
    "version": 3
   },
   "file_extension": ".py",
   "mimetype": "text/x-python",
   "name": "python",
   "nbconvert_exporter": "python",
   "pygments_lexer": "ipython3",
   "version": "3.4.0"
  }
 },
 "nbformat": 4,
 "nbformat_minor": 0
}
